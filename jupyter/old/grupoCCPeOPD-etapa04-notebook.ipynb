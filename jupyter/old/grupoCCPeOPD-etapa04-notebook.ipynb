{
 "cells": [
  {
   "cell_type": "raw",
   "metadata": {},
   "source": [
    "Integrantes do grupo (junção das duplas CCP e OPD)\n",
    "    Pedro Barros Bastos \t       RA:204481\n",
    "    Gabriel Volpato Giliotti\t   RA:197569\n",
    "    Rafael Cabral Pili\t\t       RA:185999"
   ]
  },
  {
   "cell_type": "raw",
   "metadata": {},
   "source": [
    "Queries em XQuery para anáises da base de dados fornecida pelo Human Protein Atlas (https://www.proteinatlas.org/ENSG00000134057.xml).\n",
    "\n",
    "Problemas propostos: \n",
    "    a) Percentual de células cancerígenas dentre todos os  anticorpos (total de tumores/total de amostras)\n",
    "    b) Percentual de células cancerígenas para cada  anticorpo (total de tumores para cada anticorpo/total de amostras do anticorpo com    \n",
    "       tumores)\n"
   ]
  },
  {
   "cell_type": "raw",
   "metadata": {},
   "source": [
    "let $protein := doc('http://www.proteinatlas.org/ENSG00000134057.xml')\n",
    "\n",
    "let $totalTissue := ($protein//proteinAtlas/entry/antibody/tissueExpression/data/tissueCell)\n",
    "let $totalDeTecidos := count($totalTissue)\n",
    "\n",
    "let $totalTumorTissue:= ($protein//proteinAtlas/entry/antibody/tissueExpression/data/tissueCell[contains(cellType/text(),'Tumor')])\n",
    "let $totalDeTumores := count($totalTumorTissue)\n",
    "\n",
    "a)\n",
    "for $c in ($protein//proteinAtlas/entry/antibody)\n",
    "let $qtdTumoresPorAnticorpo := $c//tissueExpression/data/tissueCell[contains(cellType/text(),'Tumor')]\n",
    "return count($qtdTumoresPorAnticorpo) div ($totalDeTecidos)*100\n",
    "\n",
    "b)\n",
    "for $c in ($protein//proteinAtlas/entry/antibody)\n",
    "let $qtdTumoresPorAnticorpo := $c//tissueExpression/data/tissueCell[contains(cellType/text(),'Tumor')]\n",
    "return count($qtdTumoresPorAnticorpo) div ($totalDeTumores)*100"
   ]
  }
 ],
 "metadata": {
  "kernelspec": {
   "display_name": "Python 3",
   "language": "python",
   "name": "python3"
  },
  "language_info": {
   "codemirror_mode": {
    "name": "ipython",
    "version": 3
   },
   "file_extension": ".py",
   "mimetype": "text/x-python",
   "name": "python",
   "nbconvert_exporter": "python",
   "pygments_lexer": "ipython3",
   "version": "3.7.3"
  }
 },
 "nbformat": 4,
 "nbformat_minor": 2
}
