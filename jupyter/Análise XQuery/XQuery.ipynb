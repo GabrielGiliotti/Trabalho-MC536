{
 "cells": [
  {
   "cell_type": "markdown",
   "metadata": {},
   "source": [
    "# XPath e XQuery\n",
    "\n"
   ]
  },
  {
   "cell_type": "markdown",
   "metadata": {},
   "source": [
    "## XQuery\n",
    "\n",
    "let $protein := doc('http://www.proteinatlas.org/ENSG00000134057.xml')"
   ]
  },
  {
   "cell_type": "code",
   "execution_count": 3,
   "metadata": {},
   "outputs": [
    {
     "ename": "SyntaxError",
     "evalue": "invalid syntax (<ipython-input-3-135c9e2ad7dd>, line 3)",
     "output_type": "error",
     "traceback": [
      "\u001b[0;36m  File \u001b[0;32m\"<ipython-input-3-135c9e2ad7dd>\"\u001b[0;36m, line \u001b[0;32m3\u001b[0m\n\u001b[0;31m    let $totalRna:= count($protein//proteinAtlas/*/rnaExpression/data)\u001b[0m\n\u001b[0m        ^\u001b[0m\n\u001b[0;31mSyntaxError\u001b[0m\u001b[0;31m:\u001b[0m invalid syntax\n"
     ]
    }
   ],
   "source": [
    "## Pegar Total de Dados\n",
    "\n",
    "let $totalRna:= count($protein//proteinAtlas/*/rnaExpression/data)\n"
   ]
  },
  {
   "cell_type": "code",
   "execution_count": 1,
   "metadata": {},
   "outputs": [
    {
     "ename": "SyntaxError",
     "evalue": "invalid syntax (<ipython-input-1-af6c8a0eff2c>, line 3)",
     "output_type": "error",
     "traceback": [
      "\u001b[0;36m  File \u001b[0;32m\"<ipython-input-1-af6c8a0eff2c>\"\u001b[0;36m, line \u001b[0;32m3\u001b[0m\n\u001b[0;31m    let $x := for $c in ($protein//proteinAtlas/entry/rnaExpression)\u001b[0m\n\u001b[0m        ^\u001b[0m\n\u001b[0;31mSyntaxError\u001b[0m\u001b[0;31m:\u001b[0m invalid syntax\n"
     ]
    }
   ],
   "source": [
    "## Pegar tecidos cancerigenos com expressao razoável de RNAm\n",
    "\n",
    "let $x := for $c in ($protein//proteinAtlas/entry/rnaExpression)\n",
    "where $c/data/*[@expRNA > 60][@expRNA < 200][@type=\"RNAExpression\"]\n",
    "return $c"
   ]
  },
  {
   "cell_type": "code",
   "execution_count": 8,
   "metadata": {},
   "outputs": [
    {
     "ename": "SyntaxError",
     "evalue": "invalid syntax (<ipython-input-8-513a47f8beb6>, line 2)",
     "output_type": "error",
     "traceback": [
      "\u001b[0;36m  File \u001b[0;32m\"<ipython-input-8-513a47f8beb6>\"\u001b[0;36m, line \u001b[0;32m2\u001b[0m\n\u001b[0;31m    let $tot := for $c in ($protein//proteinAtlas/entry/rnaExpression/data)\u001b[0m\n\u001b[0m        ^\u001b[0m\n\u001b[0;31mSyntaxError\u001b[0m\u001b[0;31m:\u001b[0m invalid syntax\n"
     ]
    }
   ],
   "source": [
    "## Pegar tecidos cancerigenos com baixa expressao com tecido Endócrino\n",
    "let $tot := for $c in ($protein//proteinAtlas/entry/rnaExpression/data)\n",
    "where $c/tissue[@organ='Endocrine tissues']\n",
    "return $c\n",
    "\n",
    "let $y := for $c in ($protein//proteinAtlas/entry/rnaExpression/data)\n",
    "where $c/*[@expRNA < 15][@type=\"RNAExpression\"] and $c/tissue[@organ='Endocrine tissues']\n",
    "return $c\n",
    "\n",
    "return count($y) div count($tot)"
   ]
  },
  {
   "cell_type": "code",
   "execution_count": null,
   "metadata": {},
   "outputs": [],
   "source": [
    "## Pegar tecidos cuja taxa de cancer é maior em mulheres que em homens\n",
    "let $z := for $c in ($protein//proteinAtlas/entry/rnaExpression/data)\n",
    "where $c/[@expRNA > 15][@expRNA < 180][@type=\"RNAExpression\"] and count($c/[@sex=\"Female\"]) > count($c/*[@sex=\"Male\"])\n",
    "return $c\n"
   ]
  },
  {
   "cell_type": "code",
   "execution_count": null,
   "metadata": {},
   "outputs": [],
   "source": [
    "## Pegar tecidos cuja taxa de cancer é maior em homens que em mulheres\n",
    "\n",
    "\n",
    "let $f := for $c in ($protein//proteinAtlas/entry/rnaExpression/data)\n",
    "where $c/[@expRNA > 15][@expRNA < 180][@type=\"RNAExpression\"] and count($c/[@sex=\"Male\"]) > count($c/*[@sex=\"Female\"])\n",
    "return $c\n"
   ]
  },
  {
   "cell_type": "code",
   "execution_count": 5,
   "metadata": {},
   "outputs": [
    {
     "ename": "SyntaxError",
     "evalue": "invalid syntax (<ipython-input-5-af8d6fba09bc>, line 3)",
     "output_type": "error",
     "traceback": [
      "\u001b[0;36m  File \u001b[0;32m\"<ipython-input-5-af8d6fba09bc>\"\u001b[0;36m, line \u001b[0;32m3\u001b[0m\n\u001b[0;31m    let $h := for $c in ($protein//proteinAtlas/entry/rnaExpression/data)\u001b[0m\n\u001b[0m        ^\u001b[0m\n\u001b[0;31mSyntaxError\u001b[0m\u001b[0;31m:\u001b[0m invalid syntax\n"
     ]
    }
   ],
   "source": [
    "## Pegar tecidos com taxa empressiva de RNAm na medula ossea\n",
    "\n",
    "let $h := for $c in ($protein//proteinAtlas/entry/rnaExpression/data)\n",
    "where $c/*[@expRNA > 15][@expRNA < 180][@type=\"RNAExpression\"] and $c/tissue[contains(@organ,'Bone marrow &amp; lymphoid tissues')]\n",
    "return $c"
   ]
  },
  {
   "cell_type": "code",
   "execution_count": 7,
   "metadata": {},
   "outputs": [
    {
     "ename": "SyntaxError",
     "evalue": "invalid syntax (<ipython-input-7-57f01a002e7c>, line 2)",
     "output_type": "error",
     "traceback": [
      "\u001b[0;36m  File \u001b[0;32m\"<ipython-input-7-57f01a002e7c>\"\u001b[0;36m, line \u001b[0;32m2\u001b[0m\n\u001b[0;31m    let $tot := for $c in ($protein//proteinAtlas/entry/rnaExpression/data)\u001b[0m\n\u001b[0m        ^\u001b[0m\n\u001b[0;31mSyntaxError\u001b[0m\u001b[0;31m:\u001b[0m invalid syntax\n"
     ]
    }
   ],
   "source": [
    "## Pegar tecidos com taxa não muito expressiva de RNAm para tecidos cerebrais\n",
    "let $tot := for $c in ($protein//proteinAtlas/entry/rnaExpression/data)\n",
    "where $c/tissue[contains(@organ,'Brain')]\n",
    "return $c\n",
    "\n",
    "let $w := for $c in ($protein//proteinAtlas/entry/rnaExpression/data)\n",
    "where $c/*[@expRNA < 15][@type=\"RNAExpression\"] and $c/tissue[contains(@organ,'Brain')]\n",
    "return $c\n",
    "\n",
    "return count($w) div count($tot)"
   ]
  },
  {
   "cell_type": "markdown",
   "metadata": {},
   "source": []
  }
 ],
 "metadata": {
  "kernelspec": {
   "display_name": "Python 3",
   "language": "python",
   "name": "python3"
  },
  "language_info": {
   "codemirror_mode": {
    "name": "ipython",
    "version": 3
   },
   "file_extension": ".py",
   "mimetype": "text/x-python",
   "name": "python",
   "nbconvert_exporter": "python",
   "pygments_lexer": "ipython3",
   "version": "3.7.3"
  }
 },
 "nbformat": 4,
 "nbformat_minor": 2
}
