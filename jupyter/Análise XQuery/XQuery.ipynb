{
 "cells": [
  {
   "cell_type": "markdown",
   "metadata": {},
   "source": [
    "# XPath e XQuery\n",
    "\n"
   ]
  },
  {
   "cell_type": "markdown",
   "metadata": {},
   "source": [
    "## XQuery\n",
    "\n",
    "let $protein := doc('http://www.proteinatlas.org/ENSG00000134057.xml')\n",
    "\n",
    "let $totalRna:= count($protein//proteinAtlas/*/rnaExpression/data)\n",
    "\n",
    "\n",
    "let $x := for $c in ($protein//proteinAtlas/entry/rnaExpression)\n",
    "where $c/data/*[@expRNA > 60][@expRNA < 200][@type=\"RNAExpression\"]\n",
    "return $c\n",
    "\n",
    "let $y := for $c in ($protein//proteinAtlas/entry/rnaExpression/data)\n",
    "where $c/*[@expRNA < 15][@type=\"RNAExpression\"] and $c/tissue[@organ='Endocrine tissues']\n",
    "return $c\n",
    "\n",
    "let $z := for $c in ($protein//proteinAtlas/entry/rnaExpression/data)\n",
    "where $c/[@expRNA > 15][@expRNA < 180][@type=\"RNAExpression\"] and count($c/[@sex=\"Female\"]) > count($c/*[@sex=\"Male\"])\n",
    "return $c\n",
    "\n",
    "\n",
    "let $f := for $c in ($protein//proteinAtlas/entry/rnaExpression/data)\n",
    "where $c/[@expRNA > 15][@expRNA < 180][@type=\"RNAExpression\"] and count($c/[@sex=\"Male\"]) > count($c/*[@sex=\"Female\"])\n",
    "return $c\n",
    "\n",
    "\n",
    "let $h := for $c in ($protein//proteinAtlas/entry/rnaExpression/data)\n",
    "where $c/*[@expRNA > 15][@expRNA < 180][@type=\"RNAExpression\"] and $c/tissue[contains(@organ,'Bone marrow &amp; lymphoid tissues')]\n",
    "return $c\n",
    "\n",
    "let $w := for $c in ($protein//proteinAtlas/entry/rnaExpression/data)\n",
    "where $c/*[@expRNA < 25][@type=\"RNAExpression\"] and $c/tissue[contains(@organ,'Brain')]\n",
    "return $c"
   ]
  },
  {
   "cell_type": "markdown",
   "metadata": {},
   "source": []
  }
 ],
 "metadata": {
  "kernelspec": {
   "display_name": "Python 3",
   "language": "python",
   "name": "python3"
  },
  "language_info": {
   "codemirror_mode": {
    "name": "ipython",
    "version": 3
   },
   "file_extension": ".py",
   "mimetype": "text/x-python",
   "name": "python",
   "nbconvert_exporter": "python",
   "pygments_lexer": "ipython3",
   "version": "3.7.3"
  }
 },
 "nbformat": 4,
 "nbformat_minor": 2
}
