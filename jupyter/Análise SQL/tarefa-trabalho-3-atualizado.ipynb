{
 "cells": [
  {
   "cell_type": "code",
   "execution_count": 1,
   "metadata": {},
   "outputs": [],
   "source": [
    "%defaultDatasource jdbc:h2:mem:db"
   ]
  },
  {
   "cell_type": "code",
   "execution_count": 2,
   "metadata": {},
   "outputs": [],
   "source": [
    "DROP TABLE IF EXISTS proteinAtlas;\n",
    "DROP TABLE IF EXISTS proteinAtlas_entry_pathologyExpression_data;\n",
    "DROP TABLE IF EXISTS rnaExpression;\n",
    "DROP TABLE IF EXISTS proteinAtlas_entry_rnaExpression_data;\n",
    "DROP TABLE IF EXISTS RNASample;\n",
    "\n",
    "create table proteinAtlas (\n",
    "    PK_proteinAtlas INTEGER,\n",
    "    FILENAME VARCHAR,\n",
    "    FILEPATH VARCHAR,\n",
    "    copyright VARCHAR,\n",
    "    entry_cellExpression_data_location VARCHAR,\n",
    "    entry_cellExpression_data_location_GOId VARCHAR,\n",
    "    entry_cellExpression_data_location_status VARCHAR,\n",
    "    entry_cellExpression_image_imageType VARCHAR,\n",
    "    entry_cellExpression_image_imageUrl VARCHAR,\n",
    "    entry_cellExpression_source VARCHAR,\n",
    "    entry_cellExpression_summary VARCHAR,\n",
    "    entry_cellExpression_technology VARCHAR,\n",
    "    entry_cellExpression_verification VARCHAR,\n",
    "    entry_cellExpression_verification_type VARCHAR,\n",
    "    entry_identifier_db VARCHAR,\n",
    "    entry_identifier_id VARCHAR,\n",
    "    entry_identifier_version DOUBLE,\n",
    "    entry_identifier_xref_db VARCHAR,\n",
    "    entry_identifier_xref_id VARCHAR,\n",
    "    entry_name VARCHAR,\n",
    "    entry_pathologyExpression_assayType VARCHAR,\n",
    "    entry_pathologyExpression_rnaCancerDistribution VARCHAR,\n",
    "    entry_pathologyExpression_rnaCancerSpecificity VARCHAR,\n",
    "    entry_pathologyExpression_source VARCHAR,\n",
    "    entry_pathologyExpression_technology VARCHAR,\n",
    "    entry_proteinEvidence_evidence VARCHAR,\n",
    "    entry_synonym VARCHAR,\n",
    "    entry_tissueExpression_assayType VARCHAR,\n",
    "    entry_tissueExpression_source VARCHAR,\n",
    "    entry_tissueExpression_summary VARCHAR,\n",
    "    entry_tissueExpression_summary_type VARCHAR,\n",
    "    entry_tissueExpression_technology VARCHAR,\n",
    "    entry_tissueExpression_verification VARCHAR,\n",
    "    entry_tissueExpression_verification_description VARCHAR,\n",
    "    entry_tissueExpression_verification_type VARCHAR,\n",
    "    entry_url VARCHAR,\n",
    "    entry_version INTEGER,\n",
    "    schemaVersion DOUBLE,\n",
    "    \n",
    "    PRIMARY KEY(PK_proteinAtlas)    \n",
    ") AS SELECT\n",
    "    PK_proteinAtlas,\n",
    "    FILENAME,\n",
    "    FILEPATH,\n",
    "    copyright,\n",
    "    entry_cellExpression_data_location,\n",
    "    entry_cellExpression_data_location_GOId,\n",
    "    entry_cellExpression_data_location_status,\n",
    "    entry_cellExpression_image_imageType,\n",
    "    entry_cellExpression_image_imageUrl,\n",
    "    entry_cellExpression_source,\n",
    "    entry_cellExpression_summary,\n",
    "    entry_cellExpression_technology,\n",
    "    entry_cellExpression_verification,\n",
    "    entry_cellExpression_verification_type,\n",
    "    entry_identifier_db,\n",
    "    entry_identifier_id,\n",
    "    entry_identifier_version,\n",
    "    entry_identifier_xref_db,\n",
    "    entry_identifier_xref_id,\n",
    "    entry_name,\n",
    "    entry_pathologyExpression_assayType,\n",
    "    entry_pathologyExpression_rnaCancerDistribution,\n",
    "    entry_pathologyExpression_rnaCancerSpecificity,\n",
    "    entry_pathologyExpression_source,\n",
    "    entry_pathologyExpression_technology,\n",
    "    entry_proteinEvidence_evidence,\n",
    "    entry_synonym,\n",
    "    entry_tissueExpression_assayType,\n",
    "    entry_tissueExpression_source,\n",
    "    entry_tissueExpression_summary,\n",
    "    entry_tissueExpression_summary_type,\n",
    "    entry_tissueExpression_technology,\n",
    "    entry_tissueExpression_verification,\n",
    "    entry_tissueExpression_verification_description,\n",
    "    entry_tissueExpression_verification_type,\n",
    "    entry_url,\n",
    "    entry_version,\n",
    "    schemaVersion\n",
    "FROM CSVREAD('./proteinAtlas.csv');\n",
    "\n",
    "create table proteinAtlas_entry_pathologyExpression_data (\n",
    "    FK_proteinAtlas INTEGER,\n",
    "    survivalAnalysis_dataSource VARCHAR,\n",
    "    survivalAnalysis_isPrognostic BOOLEAN,\n",
    "    survivalAnalysis_prognosticType VARCHAR,\n",
    "    survivalAnalysis_pValue DOUBLE,\n",
    "    survivalAnalysis_source VARCHAR,\n",
    "    tissue VARCHAR,\n",
    "    tissue_organ VARCHAR,\n",
    "    \n",
    "    FOREIGN KEY(FK_proteinAtlas) REFERENCES proteinAtlas(PK_proteinAtlas)\n",
    ") AS SELECT\n",
    "    FK_proteinAtlas,\n",
    "    survivalAnalysis_dataSource,\n",
    "    survivalAnalysis_isPrognostic,\n",
    "    survivalAnalysis_prognosticType,\n",
    "    survivalAnalysis_pValue,\n",
    "    survivalAnalysis_source,\n",
    "    tissue,\n",
    "    tissue_organ\n",
    "FROM CSVREAD('./proteinAtlas_entry_pathologyExpression_data.csv');\n",
    "\n",
    "create table rnaExpression (\n",
    "    PK_rnaExpression INTEGER,\n",
    "    FK_proteinAtlas INTEGER,\n",
    "    assayType VARCHAR,\n",
    "    rnaDistribution VARCHAR,\n",
    "    rnaDistribution_description VARCHAR,\n",
    "    rnaSpecificity_description VARCHAR,\n",
    "    rnaSpecificity_specificity VARCHAR,\n",
    "    rnaSpecificity_tissue VARCHAR,\n",
    "    rnaSpecificity_tissue_ontologyTerms VARCHAR,\n",
    "    rnaSpecificity_tissue_organ VARCHAR,\n",
    "    source VARCHAR,\n",
    "    technology VARCHAR,\n",
    "    \n",
    "    PRIMARY KEY(PK_rnaExpression),\n",
    "    FOREIGN KEY(FK_proteinAtlas) REFERENCES proteinAtlas(PK_proteinAtlas)\n",
    ") AS SELECT\n",
    "    PK_rnaExpression,\n",
    "    FK_proteinAtlas,\n",
    "    assayType,\n",
    "    rnaDistribution,\n",
    "    rnaDistribution_description,\n",
    "    rnaSpecificity_description,\n",
    "    rnaSpecificity_specificity,\n",
    "    rnaSpecificity_tissue,\n",
    "    rnaSpecificity_tissue_ontologyTerms,\n",
    "    rnaSpecificity_tissue_organ,\n",
    "    source,\n",
    "    technology\n",
    "FROM CSVREAD('./rnaExpression.csv');\n",
    "\n",
    "create table proteinAtlas_entry_rnaExpression_data (\n",
    "    PK_proteinAtlas_entry_rnaExpression_data INTEGER,\n",
    "    FK_rnaExpression INTEGER,\n",
    "    bloodCell VARCHAR,\n",
    "    bloodCell_lineage VARCHAR,\n",
    "    cellLine VARCHAR,\n",
    "    cellLine_cellosaurusID VARCHAR,\n",
    "    cellLine_organ VARCHAR,\n",
    "    tissue VARCHAR,\n",
    "    tissue_ontologyTerms VARCHAR,\n",
    "    tissue_organ VARCHAR,\n",
    "    tissue_region VARCHAR,\n",
    "    \n",
    "    PRIMARY KEY(PK_proteinAtlas_entry_rnaExpression_data),\n",
    "    FOREIGN KEY(FK_rnaExpression) REFERENCES rnaExpression(PK_rnaExpression)\n",
    ") AS SELECT\n",
    "    PK_proteinAtlas_entry_rnaExpression_data,\n",
    "    FK_rnaExpression,\n",
    "    bloodCell,\n",
    "    bloodCell_lineage,\n",
    "    cellLine,\n",
    "    cellLine_cellosaurusID,\n",
    "    cellLine_organ,\n",
    "    tissue,\n",
    "    tissue_ontologyTerms,\n",
    "    tissue_organ,\n",
    "    tissue_region\n",
    "FROM CSVREAD('./proteinAtlas_entry_rnaExpression_data.csv');\n",
    "\n",
    "create table RNASample (\n",
    "    FK_data INTEGER,\n",
    "    age INTEGER,\n",
    "    expRNA DOUBLE,\n",
    "    sampleId INTEGER,\n",
    "    sex VARCHAR,\n",
    "    unitRNA VARCHAR,\n",
    "    \n",
    "    PRIMARY KEY(sampleId),\n",
    "    FOREIGN KEY(FK_data) REFERENCES proteinAtlas_entry_rnaExpression_data(PK_proteinAtlas_entry_rnaExpression_data)\n",
    ") AS SELECT\n",
    "    FK_data,\n",
    "    age,\n",
    "    expRNA,\n",
    "    sampleId,\n",
    "    sex,\n",
    "    unitRNA\n",
    "FROM CSVREAD('./RNASample.csv');"
   ]
  },
  {
   "cell_type": "markdown",
   "metadata": {},
   "source": [
    "## Quais patologias possuem amostras de RNA dadas por pessoas com mais de 60 anos?"
   ]
  },
  {
   "cell_type": "code",
   "execution_count": 5,
   "metadata": {},
   "outputs": [
    {
     "data": {
      "application/vnd.jupyter.widget-view+json": {
       "model_id": "8f50934a-3b10-4a70-977d-19a88029d736",
       "version_major": 2,
       "version_minor": 0
      },
      "method": "display_data"
     },
     "metadata": {},
     "output_type": "display_data"
    }
   ],
   "source": [
    "\n",
    "select  --RNASample.sampleId,\n",
    "        --RNASample.age,\n",
    "        --RNASample.sex,\n",
    "        distinct\n",
    "            pathology.tissue\n",
    "        \n",
    "from RNASample RNASample\n",
    "JOIN proteinAtlas_entry_rnaExpression_data rnaExpressionData ON RNASample.FK_DATA = rnaExpressionData.PK_proteinAtlas_entry_rnaExpression_data\n",
    "JOIN rnaExpression rnaExpression ON rnaExpression.PK_rnaExpression = rnaExpressionData.FK_rnaExpression\n",
    "JOIN proteinAtlas pa ON pa.PK_proteinAtlas = rnaExpression.FK_proteinAtlas\n",
    "JOIN proteinAtlas_entry_pathologyExpression_data pathology ON pathology.tissue_organ = rnaExpressionData.tissue_organ\n",
    "\n",
    "group by RNASample.age, pathology.tissue\n",
    "having RNASample.age > 60\n",
    ";\n"
   ]
  },
  {
   "cell_type": "markdown",
   "metadata": {},
   "source": [
    "## View que possui relacionamento entre amostras de RNA e patoligias e tecidos associados às estass amostras"
   ]
  },
  {
   "cell_type": "code",
   "execution_count": 3,
   "metadata": {},
   "outputs": [],
   "source": [
    "DROP VIEW IF EXISTS AmostraPatologia;\n",
    "\n",
    "CREATE VIEW AmostraPatologia as\n",
    "    select  RNASample.sampleId,\n",
    "            RNASample.age,\n",
    "            RNASample.sex,\n",
    "            pathology.tissue, -- patologia\n",
    "            pathology.tissue_organ        \n",
    "    from RNASample RNASample\n",
    "    JOIN proteinAtlas_entry_rnaExpression_data rnaExpressionData ON RNASample.FK_DATA = rnaExpressionData.PK_proteinAtlas_entry_rnaExpression_data\n",
    "    JOIN rnaExpression rnaExpression ON rnaExpression.PK_rnaExpression = rnaExpressionData.FK_rnaExpression\n",
    "    JOIN proteinAtlas pa ON pa.PK_proteinAtlas = rnaExpression.FK_proteinAtlas\n",
    "    JOIN proteinAtlas_entry_pathologyExpression_data pathology ON pathology.tissue_organ = rnaExpressionData.tissue_organ;"
   ]
  },
  {
   "cell_type": "code",
   "execution_count": 4,
   "metadata": {},
   "outputs": [
    {
     "data": {
      "application/vnd.jupyter.widget-view+json": {
       "model_id": "bf2bc8a7-377d-4d6c-b753-2668acc92b9d",
       "version_major": 2,
       "version_minor": 0
      },
      "method": "display_data"
     },
     "metadata": {},
     "output_type": "display_data"
    }
   ],
   "source": [
    "select * from AmostraPatologia;"
   ]
  },
  {
   "cell_type": "markdown",
   "metadata": {},
   "source": [
    "## Média de idade dos pacientes por patologias"
   ]
  },
  {
   "cell_type": "code",
   "execution_count": 26,
   "metadata": {},
   "outputs": [
    {
     "data": {
      "application/vnd.jupyter.widget-view+json": {
       "model_id": "ef51243d-44e8-46da-a4fc-25eb74c4641a",
       "version_major": 2,
       "version_minor": 0
      },
      "method": "display_data"
     },
     "metadata": {},
     "output_type": "display_data"
    }
   ],
   "source": [
    "select AVG(age), tissue patologiaDaAmostra from AmostraPatologia\n",
    "group by tissue;"
   ]
  },
  {
   "cell_type": "markdown",
   "metadata": {},
   "source": [
    "## Média de idade dos pacientes por tecido"
   ]
  },
  {
   "cell_type": "code",
   "execution_count": 27,
   "metadata": {},
   "outputs": [
    {
     "data": {
      "application/vnd.jupyter.widget-view+json": {
       "model_id": "38f28671-921e-4f18-94d0-ef7d9e155931",
       "version_major": 2,
       "version_minor": 0
      },
      "method": "display_data"
     },
     "metadata": {},
     "output_type": "display_data"
    }
   ],
   "source": [
    "select AVG(age), tissue_organ tecidoDaAmostra from AmostraPatologia\n",
    "group by tissue_organ;"
   ]
  },
  {
   "cell_type": "markdown",
   "metadata": {},
   "source": [
    "## Tecidos que possuem mais tipos de canceres verificados (ordenados decrescentemente)"
   ]
  },
  {
   "cell_type": "code",
   "execution_count": 30,
   "metadata": {},
   "outputs": [
    {
     "data": {
      "application/vnd.jupyter.widget-view+json": {
       "model_id": "e57a38d4-0903-4034-89e8-07325b873be7",
       "version_major": 2,
       "version_minor": 0
      },
      "method": "display_data"
     },
     "metadata": {},
     "output_type": "display_data"
    }
   ],
   "source": [
    "select count(distinct tissue) as contagem, tissue_organ as tecidoDaAmostra from AmostraPatologia\n",
    "group by tissue_organ\n",
    "order by contagem desc;"
   ]
  },
  {
   "cell_type": "markdown",
   "metadata": {},
   "source": [
    "## Tecidos que possuem maior quantidade de amostras de RNA canceŕigenas (ordenados decrescentemente)"
   ]
  },
  {
   "cell_type": "code",
   "execution_count": 31,
   "metadata": {},
   "outputs": [
    {
     "data": {
      "application/vnd.jupyter.widget-view+json": {
       "model_id": "3183a143-bcd2-447a-b662-70f0ee79db82",
       "version_major": 2,
       "version_minor": 0
      },
      "method": "display_data"
     },
     "metadata": {},
     "output_type": "display_data"
    }
   ],
   "source": [
    "select count(tissue) as contagem, tissue_organ as tecidoDaAmostra from AmostraPatologia\n",
    "group by tissue_organ\n",
    "order by contagem desc;"
   ]
  },
  {
   "cell_type": "markdown",
   "metadata": {},
   "source": [
    "## Do tecido com maior quantidade de amostras de RNA cancerígeno, qual a média de idade dos fornecedores das amostras?"
   ]
  },
  {
   "cell_type": "code",
   "execution_count": 38,
   "metadata": {},
   "outputs": [
    {
     "data": {
      "text/plain": [
       "50"
      ]
     },
     "execution_count": 38,
     "metadata": {},
     "output_type": "execute_result"
    }
   ],
   "source": [
    "select AVG(age) from AmostraPatologia\n",
    "where tissue_organ = (\n",
    "select tecidoDaAmostra from (\n",
    "    select count(tissue) as contagem, tissue_organ as tecidoDaAmostra from AmostraPatologia\n",
    "    group by tissue_organ\n",
    "    order by contagem desc\n",
    "    limit 1\n",
    "));"
   ]
  },
  {
   "cell_type": "markdown",
   "metadata": {},
   "source": [
    "## Do tecido com maior quantidade de amostras de RNA cancerígeno, qual o câncer mais frequente?"
   ]
  },
  {
   "cell_type": "code",
   "execution_count": 45,
   "metadata": {},
   "outputs": [
    {
     "data": {
      "application/vnd.jupyter.widget-view+json": {
       "model_id": "aa2e91db-3b75-4f23-b04a-8906d900c013",
       "version_major": 2,
       "version_minor": 0
      },
      "method": "display_data"
     },
     "metadata": {},
     "output_type": "display_data"
    }
   ],
   "source": [
    "select count(*) as contagem, tissue from AmostraPatologia\n",
    "where tissue_organ = (\n",
    "select tecidoDaAmostra from (\n",
    "    select count(tissue) as contagem, tissue_organ as tecidoDaAmostra from AmostraPatologia\n",
    "    group by tissue_organ\n",
    "    order by contagem desc\n",
    "    limit 1\n",
    "))\n",
    "group by tissue;"
   ]
  },
  {
   "cell_type": "markdown",
   "metadata": {},
   "source": [
    "## Análise de suporte e confiança baseada nos fatos constatados acima"
   ]
  },
  {
   "cell_type": "code",
   "execution_count": 7,
   "metadata": {},
   "outputs": [
    {
     "data": {
      "application/vnd.jupyter.widget-view+json": {
       "model_id": "60a958f4-1a66-4531-9e58-0fc8c1131cbd",
       "version_major": 2,
       "version_minor": 0
      },
      "method": "display_data"
     },
     "metadata": {},
     "output_type": "display_data"
    }
   ],
   "source": [
    "-- Análise patologias do tecido com maior quantidade de amostras de RNA cancerígeno.\n",
    "\n",
    "select * from AmostraPatologia\n",
    "where tissue_organ = (\n",
    "select tecidoDaAmostra from (\n",
    "    select count(tissue) as contagem, tissue_organ as tecidoDaAmostra from AmostraPatologia\n",
    "    group by tissue_organ\n",
    "    order by contagem desc\n",
    "    limit 1\n",
    "));"
   ]
  },
  {
   "cell_type": "code",
   "execution_count": 6,
   "metadata": {},
   "outputs": [
    {
     "data": {
      "application/vnd.jupyter.widget-view+json": {
       "model_id": "904ac135-9c8e-4e61-9b19-8548e3b8499a",
       "version_major": 2,
       "version_minor": 0
      },
      "method": "display_data"
     },
     "metadata": {},
     "output_type": "display_data"
    },
    {
     "data": {
      "application/vnd.jupyter.widget-view+json": {
       "model_id": "895664a3-c2f1-403e-b2ca-3323d824d9e4",
       "version_major": 2,
       "version_minor": 0
      },
      "method": "display_data"
     },
     "metadata": {},
     "output_type": "display_data"
    },
    {
     "data": {
      "application/vnd.jupyter.widget-view+json": {
       "model_id": "45951012-8537-4cbe-8378-69a717bad719",
       "version_major": 2,
       "version_minor": 0
      },
      "method": "display_data"
     },
     "metadata": {},
     "output_type": "display_data"
    }
   ],
   "source": [
    "drop view if exists ContagemCancerPorTecido;\n",
    "\n",
    "create view ContagemCancerPorTecido as\n",
    "select count(tissue) as contagem, tissue_organ as tecidoDaAmostra from AmostraPatologia\n",
    "    group by tissue_organ\n",
    "    order by contagem desc;\n",
    "    \n",
    "select * from ContagemCancerPorTecido;\n",
    "\n",
    "------------------------------------------------------------------------------------------\n",
    "--ANÁLISE\n",
    "-- tecido mais cancerigeno -> idade dos fornecedores das amostras abaixo de 30 anos.\n",
    "------------------------------------------------------------------------------------------\n",
    "\n",
    "--confiança = total de registros para tecido mais cancerígeno / total de registros\n",
    "select CAST(contagem as float) / CAST(total as float) as suporte from \n",
    "    (select contagem from ContagemCancerPorTecido limit 1),\n",
    "    (select count(*) as total from AmostraPatologia);\n",
    "\n",
    "\n",
    "--suporte = registro com idade abaixo de X anos do tecido mais cancerígeno / total de registros\n",
    "select CAST(contagem as float) / CAST(total as float) as suporte from \n",
    "    (\n",
    "        select count(*) as contagem from AmostraPatologia\n",
    "        where tissue_organ = (select tecidoDaAmostra from ContagemCancerPorTecido limit 1)\n",
    "            and age < 30\n",
    "    ),\n",
    "    (select count(*) as total from AmostraPatologia);"
   ]
  },
  {
   "cell_type": "code",
   "execution_count": null,
   "metadata": {},
   "outputs": [],
   "source": []
  }
 ],
 "metadata": {
  "kernelspec": {
   "display_name": "SQL",
   "language": "SQL",
   "name": "sql"
  },
  "language_info": {
   "codemirror_mode": "sql",
   "file_extension": ".sql",
   "mimetype": "",
   "name": "SQL",
   "nbconverter_exporter": "",
   "version": ""
  }
 },
 "nbformat": 4,
 "nbformat_minor": 2
}
